{
 "cells": [
  {
   "cell_type": "code",
   "execution_count": null,
   "id": "087b38e6-f438-4ee2-a7f5-4fa9e266ec40",
   "metadata": {},
   "outputs": [],
   "source": [
    "# Creates the Block and PyChain data classes\n",
    "\n",
    "@dataclass\n",
    "class Block:\n",
    "    data: Any\n",
    "    buyer: int\n",
    "    seller: int\n",
    "    value: int\n",
    "    gas: int\n",
    "    prev_hash: str = \"0\"\n",
    "    timestamp: str = datetime.datetime.utcnow().strftime(\"%H:%M:%S\")\n",
    "\n",
    "    def hash_block(self):\n",
    "        sha = hashlib.sha256()\n",
    "\n",
    "        data = str(self.data).encode()\n",
    "        sha.update(data)\n",
    "\n",
    "        buyer = str(self.buyer).encode()\n",
    "        sha.update(buyer)\n",
    "\n",
    "        seller = str(self.seller).encode()\n",
    "        sha.update(seller)\n",
    "\n",
    "        value = str(self.value).encode()\n",
    "        sha.update(value)\n",
    "\n",
    "        timestamp = str(self.timestamp).encode()\n",
    "        sha.update(timestamp)\n",
    "\n",
    "        prev_hash = str(self.prev_hash).encode()\n",
    "        sha.update(prev_hash)\n",
    "\n",
    "        return sha.hexdigest()\n",
    "\n",
    "\n",
    "# Create the data class PyChain\n",
    "@dataclass\n",
    "class PyChain:\n",
    "    chain: List[Block]\n",
    "\n",
    "    def add_block(self, block):\n",
    "        self.chain += [block]\n"
   ]
  }
 ],
 "metadata": {
  "kernelspec": {
   "display_name": "blkchn",
   "language": "python",
   "name": "blkchn"
  },
  "language_info": {
   "codemirror_mode": {
    "name": "ipython",
    "version": 3
   },
   "file_extension": ".py",
   "mimetype": "text/x-python",
   "name": "python",
   "nbconvert_exporter": "python",
   "pygments_lexer": "ipython3",
   "version": "3.8.13"
  }
 },
 "nbformat": 4,
 "nbformat_minor": 5
}
